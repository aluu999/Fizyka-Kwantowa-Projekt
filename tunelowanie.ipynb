{
  "nbformat": 4,
  "nbformat_minor": 0,
  "metadata": {
    "colab": {
      "name": "tunelowanie.ipynb",
      "provenance": [],
      "collapsed_sections": [],
      "authorship_tag": "ABX9TyMYoxGAwd7qsdul2J97ECMW",
      "include_colab_link": true
    },
    "kernelspec": {
      "name": "python3",
      "display_name": "Python 3"
    },
    "language_info": {
      "name": "python"
    }
  },
  "cells": [
    {
      "cell_type": "markdown",
      "metadata": {
        "id": "view-in-github",
        "colab_type": "text"
      },
      "source": [
        "<a href=\"https://colab.research.google.com/github/aluu999/Fizyka-Kwantowa-Projekt/blob/main/tunelowanie.ipynb\" target=\"_parent\"><img src=\"https://colab.research.google.com/assets/colab-badge.svg\" alt=\"Open In Colab\"/></a>"
      ]
    },
    {
      "cell_type": "code",
      "metadata": {
        "id": "xE42KKrIPtVj"
      },
      "source": [
        "import numpy as np\n",
        "import scipy as sp\n",
        "from IPython.display import HTML\n",
        "import matplotlib.pyplot as plt\n",
        "from matplotlib import animation\n",
        "from scipy.sparse import linalg as ln\n",
        "\n",
        "n_points = 1000\n",
        "x, dx = sp.linspace(-100, 100, n_points, retstep=True) \n",
        "k = 2.0                                     \n",
        "sigma = 2.0            # szerokość dzwona\n",
        "x0 = -50                   # tu start\n",
        "x_start = 0.0\n",
        "x_end = 3.0\n",
        "\n",
        "psi0 =(1/(2*np.pi*sigma**2))**(1/4) *np.exp(-((x-x0)/(2.0 * sigma))**2) * np.exp(1j * k * x)\n",
        "\n",
        "\n",
        "# Potencjał \n",
        "V_height = 2.0\n",
        "\n",
        "V = np.zeros(x.shape)\n",
        "for i, _x in enumerate(x):\n",
        "    if x_start <= _x <= x_end :\n",
        "        V[i] = V_height\n",
        "    else: \n",
        "        V[i] = 0.0\n",
        "\n",
        "\n",
        "h_diag = sp.ones(n_points) / dx**2 + V\n",
        "h_non_diag = sp.ones(n_points - 1) * (-0.5 / dx**2)\n",
        "hamiltonian = sp.sparse.diags([h_diag, h_non_diag, h_non_diag], [0, 1, -1])\n",
        "    \n",
        "\n",
        "dt = 0.5\n",
        "c1 = (sp.sparse.eye(x.size) - dt / 2.0j * hamiltonian).tocsc()\n",
        "c2 = (sp.sparse.eye(x.size) + dt / 2.0j * hamiltonian).tocsc() \n",
        "cn = ln.inv(c1).dot(c2).tocsr()\n",
        "\n",
        "def psit():\n",
        "    global psi0, cn\n",
        "    psi0 = cn.dot(psi0)\n",
        "    prob = np.abs(psi0)**2\n",
        "    return prob\n",
        "\n",
        "\n",
        "# Animacja\n",
        "fig = plt.figure()\n",
        "ax = plt.axes(xlim = (-100,100), ylim = (0.0, 0.5))\n",
        "line1, = ax.plot([], [])\n",
        "\n",
        "plt.hlines(0.2, 0, 3, color = 'red')\n",
        "plt.hlines(0, 0, 3, color = 'red')\n",
        "plt.vlines(0, 0, 0.2, color = 'red')\n",
        "plt.vlines(3, 0, 0.2, color = 'red')\n",
        "\n",
        "def animate(i):\n",
        "    line1.set_data(x, psit())\n",
        "    return line1,\n",
        "\n",
        "\n",
        "anim = animation.FuncAnimation(fig, animate, frames=150, interval=50, blit=True)\n",
        "anim.save('gotowe.mp4', fps=15, extra_args=['-vcodec', 'libx264'], dpi=300)\n"
      ],
      "execution_count": null,
      "outputs": []
    }
  ]
}