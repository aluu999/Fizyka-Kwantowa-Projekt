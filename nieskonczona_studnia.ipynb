{
  "nbformat": 4,
  "nbformat_minor": 0,
  "metadata": {
    "colab": {
      "name": "nieskonczona_studnia.ipynb",
      "provenance": [],
      "authorship_tag": "ABX9TyPNee1thNXPq2u9GrQbANbW",
      "include_colab_link": true
    },
    "kernelspec": {
      "name": "python3",
      "display_name": "Python 3"
    },
    "language_info": {
      "name": "python"
    }
  },
  "cells": [
    {
      "cell_type": "markdown",
      "metadata": {
        "id": "view-in-github",
        "colab_type": "text"
      },
      "source": [
        "<a href=\"https://colab.research.google.com/github/aluu999/Fizyka-Kwantowa-Projekt/blob/main/nieskonczona_studnia.ipynb\" target=\"_parent\"><img src=\"https://colab.research.google.com/assets/colab-badge.svg\" alt=\"Open In Colab\"/></a>"
      ]
    },
    {
      "cell_type": "code",
      "metadata": {
        "id": "CtfmkG07cVoS"
      },
      "source": [
        "import sympy as sp\n",
        "sp.init_printing()\n",
        "import matplotlib.pyplot as plt\n",
        "import matplotlib.animation as animation\n",
        "from IPython.display import HTML\n",
        "import numpy as np\n",
        "from sympy import sqrt\n",
        "from scipy.optimize import fsolve\n",
        "from sympy.utilities.lambdify import lambdify\n",
        "import scipy.integrate as integrate\n",
        "from scipy.integrate import quad\n",
        "import scipy.constants as sc\n",
        "import math \n",
        "\n",
        "a=20\n",
        "\n",
        "def Gauss(x):\n",
        "  return np.exp(-(x-10)**2/4)*(np.pi*2)**(1/4)\n",
        "\n",
        "def U(x,n):\n",
        "  return np.sqrt(2.0/a ) * np.sin(n * np.pi * x/a )\n",
        "\n",
        "def cn(x,n):\n",
        "  return np.conj(U(x,n))*Gauss(x)\n",
        "\n",
        "#calkowanie od 0 do a=20\n",
        "def G(n):\n",
        "    I = quad(cn, 0,20,args=(n))[0]\n",
        "    return I\n",
        "\n",
        "#wspolczynniki rozwiniecia w szereg pakietu wzgledem funkcji wlasnych \n",
        "vec_expint = np.vectorize(G)\n",
        "wsp = vec_expint(np.arange(100))\n",
        "wsp\n",
        "\n",
        "def psi(x,n):\n",
        "  return wsp[n]*U(x,n)\n",
        "\n",
        "def PsiSum(x, t):\n",
        "    ys = np.zeros_like(x, dtype = np.complex128)\n",
        "    \n",
        "    for k in range(100):\n",
        "        ys += psi(x,k) *np.exp(-1j*k**2*(np.pi)**2 *t)\n",
        "    return ys\n",
        "\n",
        "#animacja wersja 1\n",
        "\n",
        "fig = plt.figure()\n",
        "ax = plt.axes(xlim = (-0.1, 20.1), ylim = (-0.20, 4))\n",
        "line1, = ax.plot([], [], lw = 2)\n",
        "line2, = ax.plot([], [], lw = 2)\n",
        "dt = 0.001\n",
        "\n",
        "plt.hlines(0, 0, 20, color = 'red')\n",
        "plt.vlines(0, 0, 20, color = 'red')\n",
        "plt.vlines(20, 0, 20, color = 'red')\n",
        "plt.close()\n",
        "\n",
        "xs = np.linspace(0, 20, 200)\n",
        "def animate(i):\n",
        "    line1.set_data(xs, np.abs(PsiSum(xs, dt * i))**2)    \n",
        "    return line1, \n",
        "\n",
        "\n",
        "anim = animation.FuncAnimation(fig, animate, frames=500, interval=20, blit=True)\n",
        "anim.save('studnia.mp4', fps=15, extra_args=['-vcodec', 'libx264'], dpi=300)"
      ],
      "execution_count": 1,
      "outputs": []
    }
  ]
}