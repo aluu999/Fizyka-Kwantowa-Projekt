{
  "nbformat": 4,
  "nbformat_minor": 0,
  "metadata": {
    "colab": {
      "name": "osylator.ipynb",
      "provenance": [],
      "authorship_tag": "ABX9TyNckTaVpXys0EZNk6Pfc8U4",
      "include_colab_link": true
    },
    "kernelspec": {
      "name": "python3",
      "display_name": "Python 3"
    },
    "language_info": {
      "name": "python"
    }
  },
  "cells": [
    {
      "cell_type": "markdown",
      "metadata": {
        "id": "view-in-github",
        "colab_type": "text"
      },
      "source": [
        "<a href=\"https://colab.research.google.com/github/aluu999/Fizyka-Kwantowa-Projekt/blob/main/osylator.ipynb\" target=\"_parent\"><img src=\"https://colab.research.google.com/assets/colab-badge.svg\" alt=\"Open In Colab\"/></a>"
      ]
    },
    {
      "cell_type": "code",
      "metadata": {
        "id": "iSarvd4sdURV"
      },
      "source": [
        "import sympy as sp\n",
        "sp.init_printing()\n",
        "import matplotlib.pyplot as plt\n",
        "import math \n",
        "import matplotlib.animation as animation\n",
        "from IPython.display import HTML\n",
        "import numpy as np\n",
        "import scipy\n",
        "from scipy import special\n",
        "from scipy.misc import derivative\n",
        "import scipy.constants as sc\n",
        "from numpy import polynomial\n",
        "from scipy.integrate import quad\n",
        "from scipy.optimize import fsolve\n",
        "from sympy.utilities.lambdify import lambdify\n",
        "\n",
        "def Herm(x,n):\n",
        "    if n==0:\n",
        "        return 1\n",
        "    elif n==1:\n",
        "        return 2*x\n",
        "    else:\n",
        "        return 2*x*Herm(x,n-1)-2*(n-1)*Herm(x,n-2)\n",
        "\n",
        "#funkcje wlasne oscylatora harmonicznego unormowane do jednosci \n",
        "def U(x,n):\n",
        "    return 1/np.sqrt(2**n *math.factorial(n)*np.sqrt(np.pi)) *(np.exp(-x**2/2))*Herm(x,n)\n",
        "\n",
        "def gauss(x):\n",
        "    return (1/np.pi) **(1/4) *(np.exp(-(x-1)**2/4))\n",
        "\n",
        "def cn(x,n):\n",
        "    return np.conj(U(x,n))*gauss(x)\n",
        "\n",
        "def G(n):\n",
        "    I = quad(cn, -math.inf,math.inf ,args=(n))[0]\n",
        "    return I\n",
        "\n",
        "#wspolczynniki rozwiniecia w szereg pakietu wzgledem funkcji wlasnych \n",
        "vec_expint = np.vectorize(G)\n",
        "wsp = vec_expint(np.arange(15))\n",
        "wsp\n",
        "\n",
        "\n",
        "def psi(x,n):\n",
        "    return wsp[n]*U(x,n)\n",
        "\n",
        "def PsiSum(x, t):\n",
        "    ys = np.zeros_like(x, dtype = np.complex128)\n",
        "    \n",
        "    for k in range(6):\n",
        "        ys += psi(x,k) *np.exp(-1j*(k+0.5)*t)\n",
        "    return ys\n",
        "\n",
        "#animacja \n",
        "\n",
        "fig = plt.figure()\n",
        "ax = plt.axes(xlim = (-3, 3), ylim = (-0.5, 5))\n",
        "line1, = ax.plot([], [], lw = 2)\n",
        "line2, = ax.plot([], [], lw = 2)\n",
        "dt = 0.1\n",
        "plt.close()\n",
        "\n",
        "xs = np.linspace(-5,5, 100)\n",
        "\n",
        "def animate(i):\n",
        "    line1.set_data(xs, (np.abs(PsiSum(xs, dt * i))**2))\n",
        "    \n",
        "    line2.set_data(xs, 1/2*(xs)**2 )\n",
        "    return line1, \n",
        "\n",
        "\n",
        "anim = animation.FuncAnimation(fig, animate, frames=500, interval=20, blit=True)\n",
        "anim.save('oscylator.mp4', fps=15, extra_args=['-vcodec', 'libx264'], dpi=300)"
      ],
      "execution_count": 2,
      "outputs": []
    }
  ]
}